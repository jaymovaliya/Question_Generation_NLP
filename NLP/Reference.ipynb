{
 "cells": [
  {
   "cell_type": "raw",
   "metadata": {},
   "source": [
    "The Definitive Guide to Natural Language Processing\n",
    "[https://monkeylearn.com/blog/definitive-guide-natural-language-processing/]\n",
    "This article give some basic overview to what is NLP and some relating terms like \n",
    "[[Machine Translation] simply deals with the translation of text], \n",
    "[Automatic Summerization, [Abstraction]Text generation with its own words,[Extraction] Generally copy the text from the article, [Multiple document summerization] Takes multiple document as input and from that summary is generated as combined], \n",
    "[[Sentiment Analysis] deals with subjective information(Emotional, Opinion,e.g., Polarity detection), \n",
    "[[Text Classification] assigning the tags to text example sports, entertainment] for laguage detection], Conversational Agent(somewhat like a chatbot). "
   ]
  },
  {
   "cell_type": "raw",
   "metadata": {},
   "source": [
    "[Also terms like what is a word(understanding the nature of the word like an adjective, verbs, noun),\n",
    "POS(part-of-speech), Tagging(relating noun, verb, etc), NLP application approach(Symbolic and Statistical), Symbolic approcah has set of rules(handwritten or automatically learned)(e.g., a word is adj -> if verb is followed by adverb), Statistical approach generates the rules using machine learning. Brill Tagger(A rule based POS tagger), Symbolic tagger uses the most frequent tags while in statistical sequence labelling problem is used in which each word is tagged and then deciding the next word tag, Two statistical model HMM and CRF these two models can be trained using big corpus of the labeled data]."
   ]
  },
  {
   "cell_type": "raw",
   "metadata": {},
   "source": [
    "[From word to structure].\n",
    "Definning the syntax for making the sentence. In short how a sentence is structured.\n",
    "Thus, the process can be done using the parser and parse tree, and making a model to that can trained using treebanks. E.g., I saw a man on the hill with a telescope. This sentence is tricky and like who is on the hill?, who has the telescope?, is telescope on the hill?"
   ]
  },
  {
   "cell_type": "raw",
   "metadata": {},
   "source": [
    "[Getting meaning of the words]\n",
    "Time flies like an arrow. Fruit flies like a banana.\n",
    "Polysemy: words have different meanings\n",
    "Synonymy: different words have similar meanings"
   ]
  },
  {
   "cell_type": "raw",
   "metadata": {},
   "source": [
    "Lexical semantics: meaning of word as a unit\n",
    "Compositional semantics: words are combined to form a large meaning"
   ]
  },
  {
   "cell_type": "raw",
   "metadata": {},
   "source": [
    "Word Sense Disambiguation identifies the sense of the polysemic word."
   ]
  },
  {
   "cell_type": "raw",
   "metadata": {},
   "source": [
    "Lexical Semantics: [[[The tank is full of soldiers.] [The tank is full of nitrogen.]]\n",
    "Here, the two sentences are ambiguous. Thus, for a machine to differentiate the meaning of those two sentences is somewhat impossible.]\n",
    "[But the meaning of both the sentence can be made clear using a large computational lexicon corpus.\n",
    "There is a large computational lexicon which groups verb, adverb, adjective into sets of synonyms called synsets.]\n",
    "[Other semantic resources are FrameNet and ConceptNet]"
   ]
  },
  {
   "cell_type": "raw",
   "metadata": {},
   "source": [
    "Compositional Semantics : The principle of composition"
   ]
  },
  {
   "cell_type": "raw",
   "metadata": {},
   "source": [
    "Lastly, Pragmatics deals with the meaning behind a sentence. E.g., \n",
    "Guy1: 'You're an idiot'\n",
    "Guy2: 'Thank You'\n",
    "So, here understanding the meaning of the sentence.\n",
    "Thus, the response given by the Guy2 was in a normal way or was it in a sarcastic way"
   ]
  }
 ],
 "metadata": {
  "kernelspec": {
   "display_name": "Python 3",
   "language": "python",
   "name": "python3"
  },
  "language_info": {
   "codemirror_mode": {
    "name": "ipython",
    "version": 3
   },
   "file_extension": ".py",
   "mimetype": "text/x-python",
   "name": "python",
   "nbconvert_exporter": "python",
   "pygments_lexer": "ipython3",
   "version": "3.6.4"
  }
 },
 "nbformat": 4,
 "nbformat_minor": 2
}
